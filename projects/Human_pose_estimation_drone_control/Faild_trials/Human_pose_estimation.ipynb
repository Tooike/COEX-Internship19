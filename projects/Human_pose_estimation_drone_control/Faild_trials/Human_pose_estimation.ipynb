{
  "nbformat": 4,
  "nbformat_minor": 0,
  "metadata": {
    "colab": {
      "name": "Human_pose_estimation.ipynb",
      "version": "0.3.2",
      "provenance": [],
      "collapsed_sections": [],
      "toc_visible": true,
      "include_colab_link": true
    },
    "kernelspec": {
      "name": "python3",
      "display_name": "Python 3"
    },
    "accelerator": "GPU"
  },
  "cells": [
    {
      "cell_type": "markdown",
      "metadata": {
        "id": "view-in-github",
        "colab_type": "text"
      },
      "source": [
        "<a href=\"https://colab.research.google.com/github/hany606/COEX-Internship19/blob/master/projects/Human_pose_estimation_drone_control/Faild_trials/Human_pose_estimation.ipynb\" target=\"_parent\"><img src=\"https://colab.research.google.com/assets/colab-badge.svg\" alt=\"Open In Colab\"/></a>"
      ]
    },
    {
      "cell_type": "markdown",
      "metadata": {
        "id": "WKojMraatFWX",
        "colab_type": "text"
      },
      "source": [
        "######################################## **Colab environment** ########################################\n",
        "\n",
        "---\n"
      ]
    },
    {
      "cell_type": "code",
      "metadata": {
        "id": "aLAYroXytF6i",
        "colab_type": "code",
        "outputId": "90d96544-8033-4500-bf27-d65a5c35f36c",
        "colab": {
          "base_uri": "https://localhost:8080/",
          "height": 122
        }
      },
      "source": [
        "# Connect with Google drive\n",
        "from google.colab import drive\n",
        "drive.mount('/content/drive')"
      ],
      "execution_count": 0,
      "outputs": [
        {
          "output_type": "stream",
          "text": [
            "Go to this URL in a browser: https://accounts.google.com/o/oauth2/auth?client_id=947318989803-6bn6qk8qdgf4n4g3pfee6491hc0brc4i.apps.googleusercontent.com&redirect_uri=urn%3Aietf%3Awg%3Aoauth%3A2.0%3Aoob&scope=email%20https%3A%2F%2Fwww.googleapis.com%2Fauth%2Fdocs.test%20https%3A%2F%2Fwww.googleapis.com%2Fauth%2Fdrive%20https%3A%2F%2Fwww.googleapis.com%2Fauth%2Fdrive.photos.readonly%20https%3A%2F%2Fwww.googleapis.com%2Fauth%2Fpeopleapi.readonly&response_type=code\n",
            "\n",
            "Enter your authorization code:\n",
            "··········\n",
            "Mounted at /content/drive\n"
          ],
          "name": "stdout"
        }
      ]
    },
    {
      "cell_type": "markdown",
      "metadata": {
        "id": "sXFbfjHFqoWJ",
        "colab_type": "text"
      },
      "source": [
        "############################################ **Installation** ############################################\n",
        "\n",
        "---\n",
        "\n"
      ]
    },
    {
      "cell_type": "markdown",
      "metadata": {
        "id": "CX2iN_7rm01A",
        "colab_type": "text"
      },
      "source": [
        "### Installation of required libraries: Openpose and its dependency\n",
        "\n"
      ]
    },
    {
      "cell_type": "code",
      "metadata": {
        "id": "tl1IIOvOfI2z",
        "colab_type": "code",
        "colab": {}
      },
      "source": [
        "import os\n",
        "from os.path import exists, join, basename, splitext\n",
        "\n",
        "git_repo_url = 'https://github.com/CMU-Perceptual-Computing-Lab/openpose.git'\n",
        "project_name = splitext(basename(git_repo_url))[0]\n",
        "if not exists(project_name):\n",
        "  print(\"In process\")\n",
        "  # see: https://github.com/CMU-Perceptual-Computing-Lab/openpose/issues/949\n",
        "  # install new CMake becaue of CUDA10\n",
        "  print(\"################################## Install CMake ##################################\")\n",
        "  !wget -q https://cmake.org/files/v3.13/cmake-3.13.0-Linux-x86_64.tar.gz\n",
        "  !tar xfz cmake-3.13.0-Linux-x86_64.tar.gz --strip-components=1 -C /usr/local\n",
        "  # clone openpose\n",
        "  print(\"################################## Clone openpose ##################################\")\n",
        "  !git clone -q --depth 1 $git_repo_url\n",
        "  #!cat openpose/CMakeLists.txt\n",
        "  !sed -i 's/execute_process(COMMAND git checkout master WORKING_DIRECTORY ${CMAKE_SOURCE_DIR}\\/3rdparty\\/caffe)/execute_process(COMMAND git checkout f019d0dfe86f49d1140961f8c7dec22130c83154 WORKING_DIRECTORY ${CMAKE_SOURCE_DIR}\\/3rdparty\\/caffe)/g' openpose/CMakeLists.txt\n",
        "  !sed -i 's/\"Build OpenPose python.\" OFF/\"Build OpenPose python.\" ON/g' openpose/CMakeLists.txt\n",
        "  #!cat openpose/CMakeLists.txt\n",
        "  # install system dependencies\n",
        "  print(\"################################## Install Dependencies ##################################\")\n",
        "  !apt-get -qq install -y libatlas-base-dev libprotobuf-dev libleveldb-dev libsnappy-dev libhdf5-serial-dev protobuf-compiler libgflags-dev libgoogle-glog-dev liblmdb-dev opencl-headers ocl-icd-opencl-dev libviennacl-dev\n",
        "  # build openpose\n",
        "  print(\"################################## Build openpose ##################################\")\n",
        "  !cd openpose && rm -rf build || true && mkdir build && cd build && cmake .. && make -j`nproc`\n",
        "  print(\"################################## Finished Finished ##################################\")\n",
        "  "
      ],
      "execution_count": 0,
      "outputs": []
    },
    {
      "cell_type": "markdown",
      "metadata": {
        "id": "aNIKK6KLEGoK",
        "colab_type": "text"
      },
      "source": [
        "### Installation of required libraries: aiortc, aiohttp and its dependency"
      ]
    },
    {
      "cell_type": "code",
      "metadata": {
        "id": "WOQmznYIDjcg",
        "colab_type": "code",
        "outputId": "d60690be-a3ec-4bca-ad11-114670086370",
        "colab": {
          "base_uri": "https://localhost:8080/",
          "height": 1000
        }
      },
      "source": [
        "!apt install libavdevice-dev libavfilter-dev libopus-dev libvpx-dev pkg-config\n",
        "!pip install aiortc aiohttp"
      ],
      "execution_count": 0,
      "outputs": [
        {
          "output_type": "stream",
          "text": [
            "Reading package lists... Done\n",
            "Building dependency tree       \n",
            "Reading state information... Done\n",
            "pkg-config is already the newest version (0.29.1-0ubuntu2).\n",
            "The following package was automatically installed and is no longer required:\n",
            "  libnvidia-common-410\n",
            "Use 'apt autoremove' to remove it.\n",
            "The following NEW packages will be installed:\n",
            "  libavdevice-dev libavfilter-dev libopus-dev libpostproc-dev libvpx-dev\n",
            "0 upgraded, 5 newly installed, 0 to remove and 4 not upgraded.\n",
            "Need to get 2,285 kB of archives.\n",
            "After this operation, 9,738 kB of additional disk space will be used.\n",
            "Get:1 http://archive.ubuntu.com/ubuntu bionic-updates/universe amd64 libpostproc-dev amd64 7:3.4.6-0ubuntu0.18.04.1 [51.0 kB]\n",
            "Get:2 http://archive.ubuntu.com/ubuntu bionic-updates/universe amd64 libavfilter-dev amd64 7:3.4.6-0ubuntu0.18.04.1 [1,016 kB]\n",
            "Get:3 http://archive.ubuntu.com/ubuntu bionic-updates/universe amd64 libavdevice-dev amd64 7:3.4.6-0ubuntu0.18.04.1 [87.2 kB]\n",
            "Get:4 http://archive.ubuntu.com/ubuntu bionic/main amd64 libopus-dev amd64 1.1.2-1ubuntu1 [197 kB]\n",
            "Get:5 http://archive.ubuntu.com/ubuntu bionic/main amd64 libvpx-dev amd64 1.7.0-3 [934 kB]\n",
            "Fetched 2,285 kB in 3s (753 kB/s)\n",
            "Selecting previously unselected package libpostproc-dev:amd64.\n",
            "(Reading database ... 130963 files and directories currently installed.)\n",
            "Preparing to unpack .../libpostproc-dev_7%3a3.4.6-0ubuntu0.18.04.1_amd64.deb ...\n",
            "Unpacking libpostproc-dev:amd64 (7:3.4.6-0ubuntu0.18.04.1) ...\n",
            "Selecting previously unselected package libavfilter-dev:amd64.\n",
            "Preparing to unpack .../libavfilter-dev_7%3a3.4.6-0ubuntu0.18.04.1_amd64.deb ...\n",
            "Unpacking libavfilter-dev:amd64 (7:3.4.6-0ubuntu0.18.04.1) ...\n",
            "Selecting previously unselected package libavdevice-dev:amd64.\n",
            "Preparing to unpack .../libavdevice-dev_7%3a3.4.6-0ubuntu0.18.04.1_amd64.deb ...\n",
            "Unpacking libavdevice-dev:amd64 (7:3.4.6-0ubuntu0.18.04.1) ...\n",
            "Selecting previously unselected package libopus-dev:amd64.\n",
            "Preparing to unpack .../libopus-dev_1.1.2-1ubuntu1_amd64.deb ...\n",
            "Unpacking libopus-dev:amd64 (1.1.2-1ubuntu1) ...\n",
            "Selecting previously unselected package libvpx-dev:amd64.\n",
            "Preparing to unpack .../libvpx-dev_1.7.0-3_amd64.deb ...\n",
            "Unpacking libvpx-dev:amd64 (1.7.0-3) ...\n",
            "Setting up libpostproc-dev:amd64 (7:3.4.6-0ubuntu0.18.04.1) ...\n",
            "Setting up libavfilter-dev:amd64 (7:3.4.6-0ubuntu0.18.04.1) ...\n",
            "Setting up libvpx-dev:amd64 (1.7.0-3) ...\n",
            "Setting up libopus-dev:amd64 (1.1.2-1ubuntu1) ...\n",
            "Setting up libavdevice-dev:amd64 (7:3.4.6-0ubuntu0.18.04.1) ...\n",
            "Collecting aiortc\n",
            "\u001b[?25l  Downloading https://files.pythonhosted.org/packages/f8/09/e061841060eff4d386afb1b0a2a26203370aa3f4bd440cf9df6d4e8a4233/aiortc-0.9.21.tar.gz (1.1MB)\n",
            "\u001b[K     |████████████████████████████████| 1.1MB 1.9MB/s \n",
            "\u001b[?25hCollecting aiohttp\n",
            "\u001b[?25l  Downloading https://files.pythonhosted.org/packages/0d/5c/f87987f4dc8b2cfcf37c83a814ea4b2aff4d285cbffc0ab08b2b4fa3f584/aiohttp-3.5.4-cp36-cp36m-manylinux1_x86_64.whl (1.2MB)\n",
            "\u001b[K     |████████████████████████████████| 1.2MB 37.9MB/s \n",
            "\u001b[?25hCollecting aioice<0.7.0,>=0.6.13 (from aiortc)\n",
            "  Downloading https://files.pythonhosted.org/packages/62/cb/a12c5210deedc731433fa7bed965e3fb04bac26dc69dd96e44630d19b06e/aioice-0.6.15-py3-none-any.whl\n",
            "Requirement already satisfied: attrs in /usr/local/lib/python3.6/dist-packages (from aiortc) (19.1.0)\n",
            "Collecting av<7.0.0,>=6.2.0 (from aiortc)\n",
            "\u001b[?25l  Downloading https://files.pythonhosted.org/packages/84/77/0be0fdaa3b7912c184705a4545ae6f1e9e47ab9e3834a3ef5caf2d7ca1e7/av-6.2.0.tar.gz (2.0MB)\n",
            "\u001b[K     |████████████████████████████████| 2.0MB 33.8MB/s \n",
            "\u001b[?25hRequirement already satisfied: cffi>=1.0.0 in /usr/local/lib/python3.6/dist-packages (from aiortc) (1.12.3)\n",
            "Collecting crc32c (from aiortc)\n",
            "  Downloading https://files.pythonhosted.org/packages/65/7f/4b4dc07c8fdd391c5bdf2e91d495bcfe9d8976ce7deb3439c6007c9c3625/crc32c-1.7-cp36-cp36m-manylinux1_x86_64.whl\n",
            "Collecting cryptography>=2.2 (from aiortc)\n",
            "\u001b[?25l  Downloading https://files.pythonhosted.org/packages/97/18/c6557f63a6abde34707196fb2cad1c6dc0dbff25a200d5044922496668a4/cryptography-2.7-cp34-abi3-manylinux1_x86_64.whl (2.3MB)\n",
            "\u001b[K     |████████████████████████████████| 2.3MB 29.3MB/s \n",
            "\u001b[?25hCollecting pyee (from aiortc)\n",
            "  Downloading https://files.pythonhosted.org/packages/ad/d8/5608d571ffad3d7de0192b0b3099fe3f38d87c0817ebff3cee19264f0bc2/pyee-6.0.0-py2.py3-none-any.whl\n",
            "Collecting pylibsrtp>=0.5.6 (from aiortc)\n",
            "\u001b[?25l  Downloading https://files.pythonhosted.org/packages/41/38/e27a9a8c5a643b2497612ff9d160a645034d82ac42c36c413bcf64acde81/pylibsrtp-0.6.1-cp36-cp36m-manylinux1_x86_64.whl (64kB)\n",
            "\u001b[K     |████████████████████████████████| 71kB 22.6MB/s \n",
            "\u001b[?25hCollecting pyopenssl (from aiortc)\n",
            "\u001b[?25l  Downloading https://files.pythonhosted.org/packages/01/c8/ceb170d81bd3941cbeb9940fc6cc2ef2ca4288d0ca8929ea4db5905d904d/pyOpenSSL-19.0.0-py2.py3-none-any.whl (53kB)\n",
            "\u001b[K     |████████████████████████████████| 61kB 21.9MB/s \n",
            "\u001b[?25hCollecting multidict<5.0,>=4.0 (from aiohttp)\n",
            "\u001b[?25l  Downloading https://files.pythonhosted.org/packages/71/cc/ceb5b8c76e7a23212b9e0353053cc35a9d86c763d852a76d9b941fe81fbc/multidict-4.5.2-cp36-cp36m-manylinux1_x86_64.whl (309kB)\n",
            "\u001b[K     |████████████████████████████████| 317kB 28.1MB/s \n",
            "\u001b[?25hCollecting yarl<2.0,>=1.0 (from aiohttp)\n",
            "\u001b[?25l  Downloading https://files.pythonhosted.org/packages/fa/c0/9a73968a9f4e4dac8dffb0ba35f932dd7798fe97901f4942c2d38667862c/yarl-1.3.0-cp36-cp36m-manylinux1_x86_64.whl (251kB)\n",
            "\u001b[K     |████████████████████████████████| 256kB 30.7MB/s \n",
            "\u001b[?25hCollecting idna-ssl>=1.0; python_version < \"3.7\" (from aiohttp)\n",
            "  Downloading https://files.pythonhosted.org/packages/46/03/07c4894aae38b0de52b52586b24bf189bb83e4ddabfe2e2c8f2419eec6f4/idna-ssl-1.1.0.tar.gz\n",
            "Collecting typing-extensions>=3.6.5; python_version < \"3.7\" (from aiohttp)\n",
            "  Downloading https://files.pythonhosted.org/packages/27/aa/bd1442cfb0224da1b671ab334d3b0a4302e4161ea916e28904ff9618d471/typing_extensions-3.7.4-py3-none-any.whl\n",
            "Collecting async-timeout<4.0,>=3.0 (from aiohttp)\n",
            "  Downloading https://files.pythonhosted.org/packages/e1/1e/5a4441be21b0726c4464f3f23c8b19628372f606755a9d2e46c187e65ec4/async_timeout-3.0.1-py3-none-any.whl\n",
            "Requirement already satisfied: chardet<4.0,>=2.0 in /usr/local/lib/python3.6/dist-packages (from aiohttp) (3.0.4)\n",
            "Collecting netifaces (from aioice<0.7.0,>=0.6.13->aiortc)\n",
            "  Downloading https://files.pythonhosted.org/packages/0c/9b/c4c7eb09189548d45939a3d3a6b3d53979c67d124459b27a094c365c347f/netifaces-0.10.9-cp36-cp36m-manylinux1_x86_64.whl\n",
            "Requirement already satisfied: pycparser in /usr/local/lib/python3.6/dist-packages (from cffi>=1.0.0->aiortc) (2.19)\n",
            "Collecting asn1crypto>=0.21.0 (from cryptography>=2.2->aiortc)\n",
            "\u001b[?25l  Downloading https://files.pythonhosted.org/packages/ea/cd/35485615f45f30a510576f1a56d1e0a7ad7bd8ab5ed7cdc600ef7cd06222/asn1crypto-0.24.0-py2.py3-none-any.whl (101kB)\n",
            "\u001b[K     |████████████████████████████████| 102kB 28.8MB/s \n",
            "\u001b[?25hRequirement already satisfied: six>=1.4.1 in /usr/local/lib/python3.6/dist-packages (from cryptography>=2.2->aiortc) (1.12.0)\n",
            "Requirement already satisfied: idna>=2.0 in /usr/local/lib/python3.6/dist-packages (from yarl<2.0,>=1.0->aiohttp) (2.8)\n",
            "Building wheels for collected packages: aiortc, av, idna-ssl\n",
            "  Building wheel for aiortc (setup.py) ... \u001b[?25l\u001b[?25hdone\n",
            "  Stored in directory: /root/.cache/pip/wheels/c2/ea/76/5b6c9635bb7eadd6ad5a95d5e767c324c13b60ccc19607f981\n",
            "  Building wheel for av (setup.py) ... \u001b[?25l\u001b[?25hdone\n",
            "  Stored in directory: /root/.cache/pip/wheels/2f/c1/b2/05e83d944cde5df317e4542082d67756ec4224c7885aee2d66\n",
            "  Building wheel for idna-ssl (setup.py) ... \u001b[?25l\u001b[?25hdone\n",
            "  Stored in directory: /root/.cache/pip/wheels/d3/00/b3/32d613e19e08a739751dd6bf998cfed277728f8b2127ad4eb7\n",
            "Successfully built aiortc av idna-ssl\n",
            "Installing collected packages: netifaces, aioice, av, crc32c, asn1crypto, cryptography, pyee, pylibsrtp, pyopenssl, aiortc, multidict, yarl, idna-ssl, typing-extensions, async-timeout, aiohttp\n",
            "Successfully installed aiohttp-3.5.4 aioice-0.6.15 aiortc-0.9.21 asn1crypto-0.24.0 async-timeout-3.0.1 av-6.2.0 crc32c-1.7 cryptography-2.7 idna-ssl-1.1.0 multidict-4.5.2 netifaces-0.10.9 pyee-6.0.0 pylibsrtp-0.6.1 pyopenssl-19.0.0 typing-extensions-3.7.4 yarl-1.3.0\n"
          ],
          "name": "stdout"
        }
      ]
    },
    {
      "cell_type": "markdown",
      "metadata": {
        "id": "1aKGQ7y-rHtQ",
        "colab_type": "text"
      },
      "source": [
        "######################################## **Environment Setup** #######################################\n",
        "\n",
        "---\n",
        "\n"
      ]
    },
    {
      "cell_type": "markdown",
      "metadata": {
        "id": "Dd1IihPBnB0j",
        "colab_type": "text"
      },
      "source": [
        "Go to the directory of Python API where you can use it only there"
      ]
    },
    {
      "cell_type": "code",
      "metadata": {
        "id": "iGcQpbr7l9GV",
        "colab_type": "code",
        "outputId": "bbf2d7b5-ed75-4360-f558-37eca13648ec",
        "colab": {
          "base_uri": "https://localhost:8080/",
          "height": 68
        }
      },
      "source": [
        "!pwd\n",
        "!ls\n",
        "import os\n",
        "os.chdir('/content/openpose/build/examples/tutorial_api_python')\n",
        "!pwd"
      ],
      "execution_count": 0,
      "outputs": [
        {
          "output_type": "stream",
          "text": [
            "/content\n",
            "cmake-3.13.0-Linux-x86_64.tar.gz  drive  openpose  sample_data\n",
            "/content/openpose/build/examples/tutorial_api_python\n"
          ],
          "name": "stdout"
        }
      ]
    },
    {
      "cell_type": "markdown",
      "metadata": {
        "id": "B5-J34riCi4F",
        "colab_type": "text"
      },
      "source": [
        "Clone my repo for testing and debugging"
      ]
    },
    {
      "cell_type": "code",
      "metadata": {
        "id": "ju8OM_ZuYPnE",
        "colab_type": "code",
        "outputId": "ba0326cb-b53a-4f6c-d645-f65e8a7cfe26",
        "colab": {
          "base_uri": "https://localhost:8080/",
          "height": 139
        }
      },
      "source": [
        "!git clone https://github.com/hany606/COEX-Internship19.git"
      ],
      "execution_count": 0,
      "outputs": [
        {
          "output_type": "stream",
          "text": [
            "Cloning into 'COEX-Internship19'...\n",
            "remote: Enumerating objects: 152, done.\u001b[K\n",
            "remote: Counting objects: 100% (152/152), done.\u001b[K\n",
            "remote: Compressing objects: 100% (101/101), done.\u001b[K\n",
            "remote: Total 152 (delta 60), reused 110 (delta 37), pack-reused 0\u001b[K\n",
            "Receiving objects: 100% (152/152), 758.25 KiB | 1.00 MiB/s, done.\n",
            "Resolving deltas: 100% (60/60), done.\n"
          ],
          "name": "stdout"
        }
      ]
    },
    {
      "cell_type": "markdown",
      "metadata": {
        "id": "JNLuaQRGrQ6X",
        "colab_type": "text"
      },
      "source": [
        "############################################ **Testing** ############################################\n",
        "\n",
        "---\n",
        "\n"
      ]
    },
    {
      "cell_type": "markdown",
      "metadata": {
        "id": "Cnx2wgRZnM10",
        "colab_type": "text"
      },
      "source": [
        "To enusre that the python API has been installed correctly, the result of the below cell should have one of the files: pyopenpose.cpython-36m-x86_64-linux-gnu.so"
      ]
    },
    {
      "cell_type": "code",
      "metadata": {
        "id": "U8n1MmDpmD3u",
        "colab_type": "code",
        "outputId": "369d69bd-59ca-4a2f-ff36-93f5360680b0",
        "colab": {
          "base_uri": "https://localhost:8080/",
          "height": 51
        }
      },
      "source": [
        "!ls ../../python/openpose\n",
        "#pyopenpose.cpython-36m-x86_64-linux-gnu.so  should appear to be correctly installed for python3"
      ],
      "execution_count": 0,
      "outputs": [
        {
          "output_type": "stream",
          "text": [
            "CMakeFiles\t     __init__.py  pyopenpose.cpython-36m-x86_64-linux-gnu.so\n",
            "cmake_install.cmake  Makefile\n"
          ],
          "name": "stdout"
        }
      ]
    },
    {
      "cell_type": "markdown",
      "metadata": {
        "id": "pJT7AxhTnxId",
        "colab_type": "text"
      },
      "source": [
        "Run an example:"
      ]
    },
    {
      "cell_type": "code",
      "metadata": {
        "id": "lgngxwg3nw9L",
        "colab_type": "code",
        "colab": {}
      },
      "source": [
        "!python3 01_body_from_image.py\t"
      ],
      "execution_count": 0,
      "outputs": []
    },
    {
      "cell_type": "markdown",
      "metadata": {
        "id": "S1eHDEQSpxGc",
        "colab_type": "text"
      },
      "source": [
        "Modified version from the example to work with colab to show the images as colab doesn't have a x server to show the images as in normal OS."
      ]
    },
    {
      "cell_type": "code",
      "metadata": {
        "id": "qDf_HZIppJKL",
        "colab_type": "code",
        "outputId": "d571c457-d846-4f9e-e729-3c4722422c3d",
        "colab": {
          "base_uri": "https://localhost:8080/",
          "height": 523
        }
      },
      "source": [
        "# From Python\n",
        "# It requires OpenCV installed for Python\n",
        "import sys\n",
        "import cv2\n",
        "import os\n",
        "from sys import platform\n",
        "import argparse\n",
        "from google.colab.patches import cv2_imshow\n",
        "\n",
        "image_path = \"../../../../drive/My Drive/frame.jpg\"\n",
        "#\"../../../examples/media/COCO_val2014_000000000192.jpg\"\n",
        "\n",
        "# Import Openpose (Linux [Colab])\n",
        "try:\n",
        "    # Change these variables to point to the correct folder (Release/x64 etc.) \n",
        "    sys.path.append('../../python');\n",
        "    # If you run `make install` (default path is `/usr/local/python` for Ubuntu), you can also access the OpenPose/python module from there. This will install OpenPose and the python library at your desired installation path. Ensure that this is in your python path in order to use it.\n",
        "    # sys.path.append('/usr/local/python')\n",
        "    from openpose import pyopenpose as op\n",
        "except ImportError as e:\n",
        "    print('Error: OpenPose library could not be found. Did you enable `BUILD_PYTHON` in CMake and have this Python script in the right folder?')\n",
        "    raise e\n",
        "\n",
        "# Flags\n",
        "parser = argparse.ArgumentParser()\n",
        "parser.add_argument(\"--image_path\", default=image_path, help=\"Process an image. Read all standard formats (jpg, png, bmp, etc.).\")\n",
        "args = parser.parse_known_args()\n",
        "\n",
        "# Custom Params (refer to include/openpose/flags.hpp for more parameters)\n",
        "params = dict()\n",
        "params[\"model_folder\"] = \"../../../models/\"\n",
        "\n",
        "# Add others in path?\n",
        "for i in range(0, len(args[1])):\n",
        "    curr_item = args[1][i]\n",
        "    if i != len(args[1])-1: next_item = args[1][i+1]\n",
        "    else: next_item = \"1\"\n",
        "    if \"--\" in curr_item and \"--\" in next_item:\n",
        "        key = curr_item.replace('-','')\n",
        "        if key not in params:  params[key] = \"1\"\n",
        "    elif \"--\" in curr_item and \"--\" not in next_item:\n",
        "        key = curr_item.replace('-','')\n",
        "        if key not in params: params[key] = next_item\n",
        "\n",
        "# Construct it from system arguments\n",
        "# op.init_argv(args[1])\n",
        "# oppython = op.OpenposePython()\n",
        "\n",
        "try:\n",
        "    # Starting OpenPose\n",
        "    opWrapper = op.WrapperPython()\n",
        "    opWrapper.configure(params)\n",
        "    opWrapper.start()\n",
        "\n",
        "    # Process Image\n",
        "    datum = op.Datum()\n",
        "    imageToProcess = cv2.imread(args[0].image_path)\n",
        "    datum.cvInputData = imageToProcess\n",
        "    opWrapper.emplaceAndPop([datum])\n",
        "\n",
        "    # Display Image\n",
        "#     print(\"Body keypoints: \\n\" + str(datum.poseKeypoints))\n",
        "    cv2_imshow(datum.cvOutputData)\n",
        "#     cv2.waitKey(0)\n",
        "except Exception as e:\n",
        "    # print(e)\n",
        "    sys.exit(-1)\n"
      ],
      "execution_count": 0,
      "outputs": [
        {
          "output_type": "stream",
          "text": [
            "Error: OpenPose library could not be found. Did you enable `BUILD_PYTHON` in CMake and have this Python script in the right folder?\n"
          ],
          "name": "stdout"
        },
        {
          "output_type": "error",
          "ename": "ImportError",
          "evalue": "ignored",
          "traceback": [
            "\u001b[0;31m---------------------------------------------------------------------------\u001b[0m",
            "\u001b[0;31mImportError\u001b[0m                               Traceback (most recent call last)",
            "\u001b[0;32m<ipython-input-8-15c5fe90e769>\u001b[0m in \u001b[0;36m<module>\u001b[0;34m()\u001b[0m\n\u001b[1;32m     18\u001b[0m \u001b[0;32mexcept\u001b[0m \u001b[0mImportError\u001b[0m \u001b[0;32mas\u001b[0m \u001b[0me\u001b[0m\u001b[0;34m:\u001b[0m\u001b[0;34m\u001b[0m\u001b[0;34m\u001b[0m\u001b[0m\n\u001b[1;32m     19\u001b[0m     \u001b[0mprint\u001b[0m\u001b[0;34m(\u001b[0m\u001b[0;34m'Error: OpenPose library could not be found. Did you enable `BUILD_PYTHON` in CMake and have this Python script in the right folder?'\u001b[0m\u001b[0;34m)\u001b[0m\u001b[0;34m\u001b[0m\u001b[0;34m\u001b[0m\u001b[0m\n\u001b[0;32m---> 20\u001b[0;31m     \u001b[0;32mraise\u001b[0m \u001b[0me\u001b[0m\u001b[0;34m\u001b[0m\u001b[0;34m\u001b[0m\u001b[0m\n\u001b[0m\u001b[1;32m     21\u001b[0m \u001b[0;34m\u001b[0m\u001b[0m\n\u001b[1;32m     22\u001b[0m \u001b[0;31m# Flags\u001b[0m\u001b[0;34m\u001b[0m\u001b[0;34m\u001b[0m\u001b[0;34m\u001b[0m\u001b[0m\n",
            "\u001b[0;32m<ipython-input-8-15c5fe90e769>\u001b[0m in \u001b[0;36m<module>\u001b[0;34m()\u001b[0m\n\u001b[1;32m     15\u001b[0m     \u001b[0;31m# If you run `make install` (default path is `/usr/local/python` for Ubuntu), you can also access the OpenPose/python module from there. This will install OpenPose and the python library at your desired installation path. Ensure that this is in your python path in order to use it.\u001b[0m\u001b[0;34m\u001b[0m\u001b[0;34m\u001b[0m\u001b[0;34m\u001b[0m\u001b[0m\n\u001b[1;32m     16\u001b[0m     \u001b[0;31m# sys.path.append('/usr/local/python')\u001b[0m\u001b[0;34m\u001b[0m\u001b[0;34m\u001b[0m\u001b[0;34m\u001b[0m\u001b[0m\n\u001b[0;32m---> 17\u001b[0;31m     \u001b[0;32mfrom\u001b[0m \u001b[0mopenpose\u001b[0m \u001b[0;32mimport\u001b[0m \u001b[0mpyopenpose\u001b[0m \u001b[0;32mas\u001b[0m \u001b[0mop\u001b[0m\u001b[0;34m\u001b[0m\u001b[0;34m\u001b[0m\u001b[0m\n\u001b[0m\u001b[1;32m     18\u001b[0m \u001b[0;32mexcept\u001b[0m \u001b[0mImportError\u001b[0m \u001b[0;32mas\u001b[0m \u001b[0me\u001b[0m\u001b[0;34m:\u001b[0m\u001b[0;34m\u001b[0m\u001b[0;34m\u001b[0m\u001b[0m\n\u001b[1;32m     19\u001b[0m     \u001b[0mprint\u001b[0m\u001b[0;34m(\u001b[0m\u001b[0;34m'Error: OpenPose library could not be found. Did you enable `BUILD_PYTHON` in CMake and have this Python script in the right folder?'\u001b[0m\u001b[0;34m)\u001b[0m\u001b[0;34m\u001b[0m\u001b[0;34m\u001b[0m\u001b[0m\n",
            "\u001b[0;31mImportError\u001b[0m: cannot import name 'pyopenpose'",
            "",
            "\u001b[0;31m---------------------------------------------------------------------------\u001b[0;32m\nNOTE: If your import is failing due to a missing package, you can\nmanually install dependencies using either !pip or !apt.\n\nTo view examples of installing some common dependencies, click the\n\"Open Examples\" button below.\n\u001b[0;31m---------------------------------------------------------------------------\u001b[0m\n"
          ]
        }
      ]
    },
    {
      "cell_type": "markdown",
      "metadata": {
        "id": "Q6WMEdR8rb0L",
        "colab_type": "text"
      },
      "source": [
        "########################################## **Testing playground** ##########################################\n",
        "\n",
        "---\n",
        "\n"
      ]
    },
    {
      "cell_type": "code",
      "metadata": {
        "id": "x5XIR3tNrhWy",
        "colab_type": "code",
        "colab": {}
      },
      "source": [
        ""
      ],
      "execution_count": 0,
      "outputs": []
    },
    {
      "cell_type": "markdown",
      "metadata": {
        "id": "6i2FJEiHrxyA",
        "colab_type": "text"
      },
      "source": [
        "######################################### **Openpose module** #########################################\n",
        "\n",
        "---\n"
      ]
    },
    {
      "cell_type": "code",
      "metadata": {
        "id": "hMZoaxxIr_H7",
        "colab_type": "code",
        "colab": {}
      },
      "source": [
        ""
      ],
      "execution_count": 0,
      "outputs": []
    },
    {
      "cell_type": "markdown",
      "metadata": {
        "id": "-tT6EJL3r4e_",
        "colab_type": "text"
      },
      "source": [
        "########################################## **Camera module** ##########################################\n",
        "\n",
        "---\n",
        "\n"
      ]
    },
    {
      "cell_type": "code",
      "metadata": {
        "id": "DXz74s6AsFJJ",
        "colab_type": "code",
        "colab": {}
      },
      "source": [
        ""
      ],
      "execution_count": 0,
      "outputs": []
    },
    {
      "cell_type": "markdown",
      "metadata": {
        "id": "a9M_JAUasAO_",
        "colab_type": "text"
      },
      "source": [
        "##################################### **Video Stream with Openpose** #####################################\n",
        "\n",
        "---\n",
        "\n"
      ]
    },
    {
      "cell_type": "code",
      "metadata": {
        "id": "SRv59HvMr4OW",
        "colab_type": "code",
        "colab": {}
      },
      "source": [
        ""
      ],
      "execution_count": 0,
      "outputs": []
    },
    {
      "cell_type": "markdown",
      "metadata": {
        "id": "xM-eXjPsrUTF",
        "colab_type": "text"
      },
      "source": [
        "############################################ **Main code** ############################################\n",
        "\n",
        "---\n",
        "\n"
      ]
    },
    {
      "cell_type": "code",
      "metadata": {
        "id": "EE4dquv5rh8v",
        "colab_type": "code",
        "colab": {}
      },
      "source": [
        ""
      ],
      "execution_count": 0,
      "outputs": []
    },
    {
      "cell_type": "markdown",
      "metadata": {
        "id": "n5DU4BBErs1A",
        "colab_type": "text"
      },
      "source": [
        "############################################ **Running area** ############################################\n",
        "\n",
        "---\n",
        "\n"
      ]
    },
    {
      "cell_type": "code",
      "metadata": {
        "id": "lnSeXauusQkw",
        "colab_type": "code",
        "colab": {}
      },
      "source": [
        ""
      ],
      "execution_count": 0,
      "outputs": []
    },
    {
      "cell_type": "code",
      "metadata": {
        "id": "pdNB1B8ysyEV",
        "colab_type": "code",
        "outputId": "9651cf3f-2a0b-4ed1-c8b7-ffd03576a513",
        "colab": {
          "base_uri": "https://localhost:8080/",
          "height": 68
        }
      },
      "source": [
        "!pwd\n",
        "!cd COEX-Internship19/projects/Human_pose_estimation/ && ls && pwd\n",
        "#!python3 COEX-Internship19/projects/Human_pose_estimation/webcam/webcam.py"
      ],
      "execution_count": 0,
      "outputs": [
        {
          "output_type": "stream",
          "text": [
            "/content/openpose/build/examples/tutorial_api_python\n",
            "Human_pose_estimation.ipynb  webcam\n",
            "/content/openpose/build/examples/tutorial_api_python/COEX-Internship19/projects/Human_pose_estimation\n"
          ],
          "name": "stdout"
        }
      ]
    },
    {
      "cell_type": "code",
      "metadata": {
        "id": "jPpWlfOfFDJl",
        "colab_type": "code",
        "outputId": "5031c598-8a79-4b26-d561-3407b10f1a99",
        "colab": {
          "base_uri": "https://localhost:8080/",
          "height": 400
        }
      },
      "source": [
        "\n",
        "import argparse\n",
        "import asyncio\n",
        "import json\n",
        "import logging\n",
        "import os\n",
        "import platform\n",
        "import ssl\n",
        "import portpicker\n",
        "\n",
        "from aiohttp import web\n",
        "import cv2\n",
        "from av import VideoFrame\n",
        "\n",
        "from aiortc import RTCPeerConnection, RTCSessionDescription, VideoStreamTrack\n",
        "from aiortc.contrib.media import MediaPlayer\n",
        "\n",
        "\n",
        "\n",
        "from IPython.display import display, Javascript\n",
        "from google.colab.output import eval_js\n",
        "from google.colab.patches import cv2_imshow\n",
        "\n",
        "import time\n",
        "\n",
        "# ROOT = os.path.dirname(__file__)\n",
        "ROOT = \"/content/COEX-Internship19/projects/Human_pose_estimation/webcam\"\n",
        "#openpose/build/examples/tutorial_api_python/\n",
        "\n",
        "def process(frame):\n",
        "    return frame\n",
        "class VideoTransformTrack(VideoStreamTrack):\n",
        "    def __init__(self, track):\n",
        "        super().__init__()  # don't forget this!\n",
        "        self.track = track\n",
        "\n",
        "    async def recv(self):\n",
        "        frame = await self.track.recv()\n",
        "        print(\"Recev\")\n",
        "        # perform edge detection\n",
        "        img = frame.to_ndarray(format=\"bgr24\")\n",
        "        img = process(img)\n",
        "        cv2_imshow(img)\n",
        "        # rebuild a VideoFrame, preserving timing information\n",
        "        new_frame = VideoFrame.from_ndarray(img, format=\"bgr24\")\n",
        "        new_frame.pts = frame.pts\n",
        "        new_frame.time_base = frame.time_base\n",
        "        return new_frame\n",
        "\n",
        "async def index(request):\n",
        "    content = open(os.path.join(ROOT, \"index.html\"), \"r\").read()\n",
        "    return web.Response(content_type=\"text/html\", text=content)\n",
        "\n",
        "\n",
        "async def javascript(request):\n",
        "    content = open(os.path.join(ROOT, \"client.js\"), \"r\").read()\n",
        "    return web.Response(content_type=\"application/javascript\", text=content)\n",
        "\n",
        "    \n",
        "async def offer(request):\n",
        "    params = await request.json()\n",
        "    offer = RTCSessionDescription(sdp=params[\"sdp\"], type=params[\"type\"])\n",
        "\n",
        "    pc = RTCPeerConnection()\n",
        "    pcs.add(pc)\n",
        "\n",
        "    @pc.on(\"iceconnectionstatechange\")\n",
        "    async def on_iceconnectionstatechange():\n",
        "        print(\"ICE connection state is %s\" % pc.iceConnectionState)\n",
        "        if pc.iceConnectionState == \"failed\":\n",
        "            await pc.close()\n",
        "            pcs.discard(pc)\n",
        "\n",
        "    # open webcam\n",
        "    options = {\"framerate\": \"30\", \"video_size\": \"640x480\"}\n",
        "    if platform.system() == \"Darwin\":\n",
        "        player = MediaPlayer(\"default:none\", format=\"avfoundation\", options=options)\n",
        "    else:\n",
        "        player = MediaPlayer(\"/dev/video0\", format=\"v4l2\", options=options)\n",
        "    \n",
        "    await pc.setRemoteDescription(offer)\n",
        "    for t in pc.getTransceivers():\n",
        "        if t.kind == \"audio\" and player.audio:\n",
        "            pc.addTrack(player.audio)\n",
        "        elif t.kind == \"video\" and player.video:\n",
        "            local_video = VideoTransformTrack(player.video)\n",
        "            pc.addTrack(local_video)\n",
        "\n",
        "    answer = await pc.createAnswer()\n",
        "    await pc.setLocalDescription(answer)\n",
        "\n",
        "    return web.Response(\n",
        "        content_type=\"application/json\",\n",
        "        text=json.dumps(\n",
        "            {\"sdp\": pc.localDescription.sdp, \"type\": pc.localDescription.type}\n",
        "        ),\n",
        "    )\n",
        "\n",
        "\n",
        "pcs = set()\n",
        "\n",
        "async def tryMe():\n",
        "  time.sleep(5)\n",
        "  print(\"POO hhh\")\n",
        "\n",
        "async def on_shutdown(app):\n",
        "    # close peer connections\n",
        "    coros = [pc.close() for pc in pcs]\n",
        "    await asyncio.gather(*coros)\n",
        "    pcs.clear()\n",
        "\n",
        "\n",
        "if __name__ == \"__main__\":\n",
        "    ssl_context = None\n",
        "\n",
        "#     app = web.Application()\n",
        "#     app.on_shutdown.append(on_shutdown)\n",
        "#     app.router.add_get(\"/\", index)\n",
        "#     app.router.add_get(\"/client.js\", javascript)\n",
        "#     app.router.add_post(\"/offer\", offer)\n",
        "    port = portpicker.pick_unused_port()\n",
        "    content = Javascript('''\n",
        "    var pc = new RTCPeerConnection({\n",
        "    sdpSemantics: 'unified-plan'\n",
        "    });\n",
        "\n",
        "    // connect audio / video\n",
        "    pc.addEventListener('track', function(evt) {\n",
        "        if (evt.track.kind == 'video') {\n",
        "            // document.getElementById('video').srcObject = evt.streams[0];\n",
        "        } else {\n",
        "            // document.getElementById('audio').srcObject = evt.streams[0];\n",
        "        }\n",
        "    });\n",
        "\n",
        "    function negotiate() {\n",
        "        pc.addTransceiver('video', {direction: 'recvonly'});\n",
        "        pc.addTransceiver('audio', {direction: 'recvonly'});\n",
        "        console.log(\"negot\")\n",
        "        return pc.createOffer().then(function(offer) {\n",
        "            return pc.setLocalDescription(offer);\n",
        "        }).then(function() {\n",
        "            // wait for ICE gathering to complete\n",
        "            return new Promise(function(resolve) {\n",
        "                if (pc.iceGatheringState === 'complete') {\n",
        "                    console.log(\"Then\")\n",
        "                    resolve();\n",
        "                } else {\n",
        "                    function checkState() {\n",
        "                        if (pc.iceGatheringState === 'complete') {\n",
        "                            pc.removeEventListener('icegatheringstatechange', checkState);\n",
        "                            resolve();\n",
        "                        }\n",
        "                    }\n",
        "                    pc.addEventListener('icegatheringstatechange', checkState);\n",
        "                }\n",
        "            });\n",
        "        }).then(function() {\n",
        "        \n",
        "            var offer = pc.localDescription;\n",
        "            return fetch('/offer', {\n",
        "                body: JSON.stringify({\n",
        "                    sdp: offer.sdp,\n",
        "                    type: offer.type,\n",
        "                }),\n",
        "                headers: {\n",
        "                    'Content-Type': 'application/json'\n",
        "                },\n",
        "                method: 'POST'\n",
        "            });\n",
        "        }).then(function(response) {\n",
        "            res  = response.json();\n",
        "            console.log(res);\n",
        "            return res;\n",
        "        }).then(function(answer) {\n",
        "            console.log(\"sada\")\n",
        "            return pc.setRemoteDescription(answer);\n",
        "        }).catch(function(e) {\n",
        "            alert(e);\n",
        "        });\n",
        "    }\n",
        "\n",
        "    function start() {\n",
        "        console.log('START')\n",
        "        negotiate();\n",
        "    }\n",
        "\n",
        "    function stop() {\n",
        "        // close peer connection\n",
        "        setTimeout(function() {\n",
        "            pc.close();\n",
        "        }, 500);\n",
        "    }\n",
        "  ''')\n",
        "    display(content)\n",
        "#     data = eval_js('start()')\n",
        "#     port = 20248\n",
        "    print(\"Runnign on port: {:}\".format(port))\n",
        "    \n",
        "#     while(1):\n",
        "#       time.sleep(5)\n",
        "#     web.run_app(app, host= '0.0.0.0',port= port, ssl_context=ssl_context)\n",
        "    print(\"asd\")"
      ],
      "execution_count": 0,
      "outputs": [
        {
          "output_type": "display_data",
          "data": {
            "application/javascript": [
              "\n",
              "    var pc = new RTCPeerConnection({\n",
              "    sdpSemantics: 'unified-plan'\n",
              "    });\n",
              "\n",
              "    // connect audio / video\n",
              "    pc.addEventListener('track', function(evt) {\n",
              "        if (evt.track.kind == 'video') {\n",
              "            // document.getElementById('video').srcObject = evt.streams[0];\n",
              "        } else {\n",
              "            // document.getElementById('audio').srcObject = evt.streams[0];\n",
              "        }\n",
              "    });\n",
              "\n",
              "    function negotiate() {\n",
              "        pc.addTransceiver('video', {direction: 'recvonly'});\n",
              "        pc.addTransceiver('audio', {direction: 'recvonly'});\n",
              "        console.log(\"negot\")\n",
              "        return pc.createOffer().then(function(offer) {\n",
              "            return pc.setLocalDescription(offer);\n",
              "        }).then(function() {\n",
              "            // wait for ICE gathering to complete\n",
              "            return new Promise(function(resolve) {\n",
              "                if (pc.iceGatheringState === 'complete') {\n",
              "                    console.log(\"Then\")\n",
              "                    resolve();\n",
              "                } else {\n",
              "                    function checkState() {\n",
              "                        if (pc.iceGatheringState === 'complete') {\n",
              "                            pc.removeEventListener('icegatheringstatechange', checkState);\n",
              "                            resolve();\n",
              "                        }\n",
              "                    }\n",
              "                    pc.addEventListener('icegatheringstatechange', checkState);\n",
              "                }\n",
              "            });\n",
              "        }).then(function() {\n",
              "        \n",
              "            var offer = pc.localDescription;\n",
              "            return fetch('/offer', {\n",
              "                body: JSON.stringify({\n",
              "                    sdp: offer.sdp,\n",
              "                    type: offer.type,\n",
              "                }),\n",
              "                headers: {\n",
              "                    'Content-Type': 'application/json'\n",
              "                },\n",
              "                method: 'POST'\n",
              "            });\n",
              "        }).then(function(response) {\n",
              "            res  = response.json();\n",
              "            console.log(res);\n",
              "            return res;\n",
              "        }).then(function(answer) {\n",
              "            console.log(\"sada\")\n",
              "            return pc.setRemoteDescription(answer);\n",
              "        }).catch(function(e) {\n",
              "            alert(e);\n",
              "        });\n",
              "    }\n",
              "\n",
              "    function start() {\n",
              "        console.log('START')\n",
              "        negotiate();\n",
              "    }\n",
              "\n",
              "    function stop() {\n",
              "        // close peer connection\n",
              "        setTimeout(function() {\n",
              "            pc.close();\n",
              "        }, 500);\n",
              "    }\n",
              "  "
            ],
            "text/plain": [
              "<IPython.core.display.Javascript object>"
            ]
          },
          "metadata": {
            "tags": []
          }
        },
        {
          "output_type": "stream",
          "text": [
            "Runnign on port: 21517\n"
          ],
          "name": "stdout"
        },
        {
          "output_type": "error",
          "ename": "RuntimeError",
          "evalue": "ignored",
          "traceback": [
            "\u001b[0;31m---------------------------------------------------------------------------\u001b[0m",
            "\u001b[0;31mRuntimeError\u001b[0m                              Traceback (most recent call last)",
            "\u001b[0;32m<ipython-input-34-20db2e9ab176>\u001b[0m in \u001b[0;36m<module>\u001b[0;34m()\u001b[0m\n\u001b[1;32m    198\u001b[0m     \u001b[0mprint\u001b[0m\u001b[0;34m(\u001b[0m\u001b[0;34m\"Runnign on port: {:}\"\u001b[0m\u001b[0;34m.\u001b[0m\u001b[0mformat\u001b[0m\u001b[0;34m(\u001b[0m\u001b[0mport\u001b[0m\u001b[0;34m)\u001b[0m\u001b[0;34m)\u001b[0m\u001b[0;34m\u001b[0m\u001b[0;34m\u001b[0m\u001b[0m\n\u001b[1;32m    199\u001b[0m     \u001b[0mloop\u001b[0m \u001b[0;34m=\u001b[0m \u001b[0masyncio\u001b[0m\u001b[0;34m.\u001b[0m\u001b[0mget_event_loop\u001b[0m\u001b[0;34m(\u001b[0m\u001b[0;34m)\u001b[0m\u001b[0;34m\u001b[0m\u001b[0;34m\u001b[0m\u001b[0m\n\u001b[0;32m--> 200\u001b[0;31m     \u001b[0mloop\u001b[0m\u001b[0;34m.\u001b[0m\u001b[0mrun_until_complete\u001b[0m\u001b[0;34m(\u001b[0m\u001b[0mtryMe\u001b[0m\u001b[0;34m(\u001b[0m\u001b[0;34m)\u001b[0m\u001b[0;34m)\u001b[0m\u001b[0;34m\u001b[0m\u001b[0;34m\u001b[0m\u001b[0m\n\u001b[0m\u001b[1;32m    201\u001b[0m     \u001b[0;32mwhile\u001b[0m\u001b[0;34m(\u001b[0m\u001b[0;36m1\u001b[0m\u001b[0;34m)\u001b[0m\u001b[0;34m:\u001b[0m\u001b[0;34m\u001b[0m\u001b[0;34m\u001b[0m\u001b[0m\n\u001b[1;32m    202\u001b[0m       \u001b[0mtime\u001b[0m\u001b[0;34m.\u001b[0m\u001b[0msleep\u001b[0m\u001b[0;34m(\u001b[0m\u001b[0;36m5\u001b[0m\u001b[0;34m)\u001b[0m\u001b[0;34m\u001b[0m\u001b[0;34m\u001b[0m\u001b[0m\n",
            "\u001b[0;32m/usr/lib/python3.6/asyncio/base_events.py\u001b[0m in \u001b[0;36mrun_until_complete\u001b[0;34m(self, future)\u001b[0m\n\u001b[1;32m    458\u001b[0m         \u001b[0mReturn\u001b[0m \u001b[0mthe\u001b[0m \u001b[0mFuture\u001b[0m\u001b[0;31m'\u001b[0m\u001b[0ms\u001b[0m \u001b[0mresult\u001b[0m\u001b[0;34m,\u001b[0m \u001b[0;32mor\u001b[0m \u001b[0;32mraise\u001b[0m \u001b[0mits\u001b[0m \u001b[0mexception\u001b[0m\u001b[0;34m.\u001b[0m\u001b[0;34m\u001b[0m\u001b[0;34m\u001b[0m\u001b[0m\n\u001b[1;32m    459\u001b[0m         \"\"\"\n\u001b[0;32m--> 460\u001b[0;31m         \u001b[0mself\u001b[0m\u001b[0;34m.\u001b[0m\u001b[0m_check_closed\u001b[0m\u001b[0;34m(\u001b[0m\u001b[0;34m)\u001b[0m\u001b[0;34m\u001b[0m\u001b[0;34m\u001b[0m\u001b[0m\n\u001b[0m\u001b[1;32m    461\u001b[0m \u001b[0;34m\u001b[0m\u001b[0m\n\u001b[1;32m    462\u001b[0m         \u001b[0mnew_task\u001b[0m \u001b[0;34m=\u001b[0m \u001b[0;32mnot\u001b[0m \u001b[0mfutures\u001b[0m\u001b[0;34m.\u001b[0m\u001b[0misfuture\u001b[0m\u001b[0;34m(\u001b[0m\u001b[0mfuture\u001b[0m\u001b[0;34m)\u001b[0m\u001b[0;34m\u001b[0m\u001b[0;34m\u001b[0m\u001b[0m\n",
            "\u001b[0;32m/usr/lib/python3.6/asyncio/base_events.py\u001b[0m in \u001b[0;36m_check_closed\u001b[0;34m(self)\u001b[0m\n\u001b[1;32m    375\u001b[0m     \u001b[0;32mdef\u001b[0m \u001b[0m_check_closed\u001b[0m\u001b[0;34m(\u001b[0m\u001b[0mself\u001b[0m\u001b[0;34m)\u001b[0m\u001b[0;34m:\u001b[0m\u001b[0;34m\u001b[0m\u001b[0;34m\u001b[0m\u001b[0m\n\u001b[1;32m    376\u001b[0m         \u001b[0;32mif\u001b[0m \u001b[0mself\u001b[0m\u001b[0;34m.\u001b[0m\u001b[0m_closed\u001b[0m\u001b[0;34m:\u001b[0m\u001b[0;34m\u001b[0m\u001b[0;34m\u001b[0m\u001b[0m\n\u001b[0;32m--> 377\u001b[0;31m             \u001b[0;32mraise\u001b[0m \u001b[0mRuntimeError\u001b[0m\u001b[0;34m(\u001b[0m\u001b[0;34m'Event loop is closed'\u001b[0m\u001b[0;34m)\u001b[0m\u001b[0;34m\u001b[0m\u001b[0;34m\u001b[0m\u001b[0m\n\u001b[0m\u001b[1;32m    378\u001b[0m \u001b[0;34m\u001b[0m\u001b[0m\n\u001b[1;32m    379\u001b[0m     \u001b[0;32mdef\u001b[0m \u001b[0m_asyncgen_finalizer_hook\u001b[0m\u001b[0;34m(\u001b[0m\u001b[0mself\u001b[0m\u001b[0;34m,\u001b[0m \u001b[0magen\u001b[0m\u001b[0;34m)\u001b[0m\u001b[0;34m:\u001b[0m\u001b[0;34m\u001b[0m\u001b[0;34m\u001b[0m\u001b[0m\n",
            "\u001b[0;31mRuntimeError\u001b[0m: Event loop is closed"
          ]
        }
      ]
    },
    {
      "cell_type": "code",
      "metadata": {
        "id": "_MWV5LVhGJg4",
        "colab_type": "code",
        "outputId": "ae726eac-a747-4964-f7a2-b1cb424189b4",
        "colab": {
          "base_uri": "https://localhost:8080/",
          "height": 34
        }
      },
      "source": [
        "%%px0\n",
        "import requests as req\n",
        "url = 'http://127.0.0.1:18744'\n",
        "resp = req.get(url)\n",
        "print(resp.text)"
      ],
      "execution_count": 0,
      "outputs": [
        {
          "output_type": "stream",
          "text": [
            "UsageError: Cell magic `%%px0` not found.\n"
          ],
          "name": "stderr"
        }
      ]
    },
    {
      "cell_type": "code",
      "metadata": {
        "id": "N9wt8wY9kxxb",
        "colab_type": "code",
        "outputId": "bf26c722-1808-4118-86e5-049a02b7916a",
        "colab": {
          "base_uri": "https://localhost:8080/",
          "height": 454
        }
      },
      "source": [
        "\n",
        "!pip install ipyparallel\n"
      ],
      "execution_count": 0,
      "outputs": [
        {
          "output_type": "stream",
          "text": [
            "Collecting ipyparallel\n",
            "\u001b[?25l  Downloading https://files.pythonhosted.org/packages/3f/82/aaa7a357845a98d4028f27c799f0d3bb2fe55fc1247c73dc712b4ae2344c/ipyparallel-6.2.4-py2.py3-none-any.whl (198kB)\n",
            "\u001b[K     |████████████████████████████████| 204kB 2.7MB/s \n",
            "\u001b[?25hRequirement already satisfied: python-dateutil>=2.1 in /usr/local/lib/python3.6/dist-packages (from ipyparallel) (2.5.3)\n",
            "Requirement already satisfied: ipykernel>=4.4 in /usr/local/lib/python3.6/dist-packages (from ipyparallel) (4.6.1)\n",
            "Requirement already satisfied: pyzmq>=13 in /usr/local/lib/python3.6/dist-packages (from ipyparallel) (17.0.0)\n",
            "Requirement already satisfied: ipython>=4 in /usr/local/lib/python3.6/dist-packages (from ipyparallel) (5.5.0)\n",
            "Requirement already satisfied: jupyter-client in /usr/local/lib/python3.6/dist-packages (from ipyparallel) (5.3.1)\n",
            "Requirement already satisfied: ipython-genutils in /usr/local/lib/python3.6/dist-packages (from ipyparallel) (0.2.0)\n",
            "Requirement already satisfied: traitlets>=4.3 in /usr/local/lib/python3.6/dist-packages (from ipyparallel) (4.3.2)\n",
            "Requirement already satisfied: tornado>=4 in /usr/local/lib/python3.6/dist-packages (from ipyparallel) (4.5.3)\n",
            "Requirement already satisfied: decorator in /usr/local/lib/python3.6/dist-packages (from ipyparallel) (4.4.0)\n",
            "Requirement already satisfied: six>=1.5 in /usr/local/lib/python3.6/dist-packages (from python-dateutil>=2.1->ipyparallel) (1.12.0)\n",
            "Requirement already satisfied: setuptools>=18.5 in /usr/local/lib/python3.6/dist-packages (from ipython>=4->ipyparallel) (41.0.1)\n",
            "Requirement already satisfied: pickleshare in /usr/local/lib/python3.6/dist-packages (from ipython>=4->ipyparallel) (0.7.5)\n",
            "Requirement already satisfied: pexpect; sys_platform != \"win32\" in /usr/local/lib/python3.6/dist-packages (from ipython>=4->ipyparallel) (4.7.0)\n",
            "Requirement already satisfied: simplegeneric>0.8 in /usr/local/lib/python3.6/dist-packages (from ipython>=4->ipyparallel) (0.8.1)\n",
            "Requirement already satisfied: pygments in /usr/local/lib/python3.6/dist-packages (from ipython>=4->ipyparallel) (2.1.3)\n",
            "Requirement already satisfied: prompt-toolkit<2.0.0,>=1.0.4 in /usr/local/lib/python3.6/dist-packages (from ipython>=4->ipyparallel) (1.0.16)\n",
            "Requirement already satisfied: jupyter-core in /usr/local/lib/python3.6/dist-packages (from jupyter-client->ipyparallel) (4.5.0)\n",
            "Requirement already satisfied: ptyprocess>=0.5 in /usr/local/lib/python3.6/dist-packages (from pexpect; sys_platform != \"win32\"->ipython>=4->ipyparallel) (0.6.0)\n",
            "Requirement already satisfied: wcwidth in /usr/local/lib/python3.6/dist-packages (from prompt-toolkit<2.0.0,>=1.0.4->ipython>=4->ipyparallel) (0.1.7)\n",
            "Installing collected packages: ipyparallel\n",
            "Successfully installed ipyparallel-6.2.4\n"
          ],
          "name": "stdout"
        }
      ]
    },
    {
      "cell_type": "code",
      "metadata": {
        "id": "RYHA9RYElGwI",
        "colab_type": "code",
        "outputId": "42318963-8b65-42c8-c0d0-d9ea5ad587de",
        "colab": {
          "base_uri": "https://localhost:8080/",
          "height": 378
        }
      },
      "source": [
        "import ipyparallel as ipp\n",
        "rc = ipp.Client()"
      ],
      "execution_count": 0,
      "outputs": [
        {
          "output_type": "stream",
          "text": [
            "Waiting for connection file: ~/.ipython/profile_default/security/ipcontroller-client.json\n"
          ],
          "name": "stdout"
        },
        {
          "output_type": "error",
          "ename": "OSError",
          "evalue": "ignored",
          "traceback": [
            "\u001b[0;31m---------------------------------------------------------------------------\u001b[0m",
            "\u001b[0;31mOSError\u001b[0m                                   Traceback (most recent call last)",
            "\u001b[0;32m<ipython-input-28-af60ced41b2c>\u001b[0m in \u001b[0;36m<module>\u001b[0;34m()\u001b[0m\n\u001b[1;32m      1\u001b[0m \u001b[0;32mimport\u001b[0m \u001b[0mipyparallel\u001b[0m \u001b[0;32mas\u001b[0m \u001b[0mipp\u001b[0m\u001b[0;34m\u001b[0m\u001b[0;34m\u001b[0m\u001b[0m\n\u001b[0;32m----> 2\u001b[0;31m \u001b[0mrc\u001b[0m \u001b[0;34m=\u001b[0m \u001b[0mipp\u001b[0m\u001b[0;34m.\u001b[0m\u001b[0mClient\u001b[0m\u001b[0;34m(\u001b[0m\u001b[0;34m)\u001b[0m\u001b[0;34m\u001b[0m\u001b[0;34m\u001b[0m\u001b[0m\n\u001b[0m",
            "\u001b[0;32m/usr/local/lib/python3.6/dist-packages/ipyparallel/client/client.py\u001b[0m in \u001b[0;36m__init__\u001b[0;34m(self, url_file, profile, profile_dir, ipython_dir, context, debug, sshserver, sshkey, password, paramiko, timeout, cluster_id, **extra_args)\u001b[0m\n\u001b[1;32m    415\u001b[0m                         \u001b[0mno_file_msg\u001b[0m\u001b[0;34m,\u001b[0m\u001b[0;34m\u001b[0m\u001b[0;34m\u001b[0m\u001b[0m\n\u001b[1;32m    416\u001b[0m                     ])\n\u001b[0;32m--> 417\u001b[0;31m                     \u001b[0;32mraise\u001b[0m \u001b[0mIOError\u001b[0m\u001b[0;34m(\u001b[0m\u001b[0mmsg\u001b[0m\u001b[0;34m)\u001b[0m\u001b[0;34m\u001b[0m\u001b[0;34m\u001b[0m\u001b[0m\n\u001b[0m\u001b[1;32m    418\u001b[0m         \u001b[0;32mif\u001b[0m \u001b[0murl_file\u001b[0m \u001b[0;32mis\u001b[0m \u001b[0;32mNone\u001b[0m\u001b[0;34m:\u001b[0m\u001b[0;34m\u001b[0m\u001b[0;34m\u001b[0m\u001b[0m\n\u001b[1;32m    419\u001b[0m             \u001b[0;32mraise\u001b[0m \u001b[0mIOError\u001b[0m\u001b[0;34m(\u001b[0m\u001b[0mno_file_msg\u001b[0m\u001b[0;34m)\u001b[0m\u001b[0;34m\u001b[0m\u001b[0;34m\u001b[0m\u001b[0m\n",
            "\u001b[0;31mOSError\u001b[0m: Connection file '~/.ipython/profile_default/security/ipcontroller-client.json' not found.\nYou have attempted to connect to an IPython Cluster but no Controller could be found.\nPlease double-check your configuration and ensure that a cluster is running."
          ]
        }
      ]
    },
    {
      "cell_type": "code",
      "metadata": {
        "id": "hP_NcKYmlmlO",
        "colab_type": "code",
        "colab": {}
      },
      "source": [
        "%%px\n",
        "print(\"Hello\")"
      ],
      "execution_count": 0,
      "outputs": []
    },
    {
      "cell_type": "code",
      "metadata": {
        "id": "_X0Z_sL0C3yX",
        "colab_type": "code",
        "colab": {}
      },
      "source": [
        "!rm -rf COEX-Internship19/"
      ],
      "execution_count": 0,
      "outputs": []
    },
    {
      "cell_type": "code",
      "metadata": {
        "id": "UwXIfAYFFsMv",
        "colab_type": "code",
        "outputId": "21f254a5-ec5a-4bee-e693-2ebb5c270c44",
        "colab": {
          "base_uri": "https://localhost:8080/",
          "height": 306
        }
      },
      "source": [
        "!cd COEX-Internship19/ && git pull"
      ],
      "execution_count": 0,
      "outputs": [
        {
          "output_type": "stream",
          "text": [
            "remote: Enumerating objects: 23, done.\u001b[K\n",
            "remote: Counting objects:   4% (1/23)   \u001b[K\rremote: Counting objects:   8% (2/23)   \u001b[K\rremote: Counting objects:  13% (3/23)   \u001b[K\rremote: Counting objects:  17% (4/23)   \u001b[K\rremote: Counting objects:  21% (5/23)   \u001b[K\rremote: Counting objects:  26% (6/23)   \u001b[K\rremote: Counting objects:  30% (7/23)   \u001b[K\rremote: Counting objects:  34% (8/23)   \u001b[K\rremote: Counting objects:  39% (9/23)   \u001b[K\rremote: Counting objects:  43% (10/23)   \u001b[K\rremote: Counting objects:  47% (11/23)   \u001b[K\rremote: Counting objects:  52% (12/23)   \u001b[K\rremote: Counting objects:  56% (13/23)   \u001b[K\rremote: Counting objects:  60% (14/23)   \u001b[K\rremote: Counting objects:  65% (15/23)   \u001b[K\rremote: Counting objects:  69% (16/23)   \u001b[K\rremote: Counting objects:  73% (17/23)   \u001b[K\rremote: Counting objects:  78% (18/23)   \u001b[K\rremote: Counting objects:  82% (19/23)   \u001b[K\rremote: Counting objects:  86% (20/23)   \u001b[K\rremote: Counting objects:  91% (21/23)   \u001b[K\rremote: Counting objects:  95% (22/23)   \u001b[K\rremote: Counting objects: 100% (23/23)   \u001b[K\rremote: Counting objects: 100% (23/23), done.\u001b[K\n",
            "remote: Compressing objects:  20% (1/5)   \u001b[K\rremote: Compressing objects:  40% (2/5)   \u001b[K\rremote: Compressing objects:  60% (3/5)   \u001b[K\rremote: Compressing objects:  80% (4/5)   \u001b[K\rremote: Compressing objects: 100% (5/5)   \u001b[K\rremote: Compressing objects: 100% (5/5), done.\u001b[K\n",
            "remote: Total 16 (delta 11), reused 14 (delta 9), pack-reused 0\u001b[K\n",
            "Unpacking objects:   6% (1/16)   \rUnpacking objects:  12% (2/16)   \rUnpacking objects:  18% (3/16)   \rUnpacking objects:  25% (4/16)   \rUnpacking objects:  31% (5/16)   \rUnpacking objects:  37% (6/16)   \rUnpacking objects:  43% (7/16)   \rUnpacking objects:  50% (8/16)   \rUnpacking objects:  56% (9/16)   \rUnpacking objects:  62% (10/16)   \rUnpacking objects:  68% (11/16)   \rUnpacking objects:  75% (12/16)   \rUnpacking objects:  81% (13/16)   \rUnpacking objects:  87% (14/16)   \rUnpacking objects:  93% (15/16)   \rUnpacking objects: 100% (16/16)   \rUnpacking objects: 100% (16/16), done.\n",
            "From https://github.com/hany606/COEX-Internship19\n",
            "   04f2e18..38190e7  master     -> origin/master\n",
            "Updating 04f2e18..38190e7\n",
            "Fast-forward\n",
            " projects/Human_pose_estimation/webcam/client.js    |   1 \u001b[32m+\u001b[m\n",
            " projects/Human_pose_estimation/webcam/client2.js   |  66 \u001b[32m++++++++++++\u001b[m\n",
            " projects/Human_pose_estimation/webcam/index.html   |   2 \u001b[32m+\u001b[m\u001b[31m-\u001b[m\n",
            " projects/Human_pose_estimation/webcam/webcam.py    |   2 \u001b[32m+\u001b[m\n",
            " .../Human_pose_estimation/webcam/webcam_colab.py   | 120 \u001b[32m+++++++++++++++++++++\u001b[m\n",
            " 5 files changed, 190 insertions(+), 1 deletion(-)\n",
            " create mode 100644 projects/Human_pose_estimation/webcam/client2.js\n",
            " create mode 100644 projects/Human_pose_estimation/webcam/webcam_colab.py\n"
          ],
          "name": "stdout"
        }
      ]
    },
    {
      "cell_type": "code",
      "metadata": {
        "id": "QToNKBPbs-iS",
        "colab_type": "code",
        "outputId": "81897ad7-d89d-4dcc-c6a5-3af132e89a2b",
        "colab": {
          "base_uri": "https://localhost:8080/",
          "height": 237
        }
      },
      "source": [
        "import argparse\n",
        "import asyncio\n",
        "import logging\n",
        "import math\n",
        "\n",
        "import cv2\n",
        "import numpy\n",
        "from av import VideoFrame\n",
        "\n",
        "from aiortc import (\n",
        "    RTCIceCandidate,\n",
        "    RTCPeerConnection,\n",
        "    RTCSessionDescription,\n",
        "    VideoStreamTrack,\n",
        ")\n",
        "from aiortc.contrib.media import MediaBlackhole, MediaPlayer, MediaRecorder\n",
        "from aiortc.contrib.signaling import add_signaling_arguments, create_signaling\n",
        "\n",
        "\n",
        "class FlagVideoStreamTrack(VideoStreamTrack):\n",
        "    \"\"\"\n",
        "    A video track that returns an animated flag.\n",
        "    \"\"\"\n",
        "\n",
        "    def __init__(self):\n",
        "        super().__init__()  # don't forget this!\n",
        "        self.counter = 0\n",
        "        height, width = 480, 640\n",
        "\n",
        "        # generate flag\n",
        "        data_bgr = numpy.hstack(\n",
        "            [\n",
        "                self._create_rectangle(\n",
        "                    width=213, height=480, color=(255, 0, 0)\n",
        "                ),  # blue\n",
        "                self._create_rectangle(\n",
        "                    width=214, height=480, color=(255, 255, 255)\n",
        "                ),  # white\n",
        "                self._create_rectangle(width=213, height=480, color=(0, 0, 255)),  # red\n",
        "            ]\n",
        "        )\n",
        "\n",
        "        # shrink and center it\n",
        "        M = numpy.float32([[0.5, 0, width / 4], [0, 0.5, height / 4]])\n",
        "        data_bgr = cv2.warpAffine(data_bgr, M, (width, height))\n",
        "\n",
        "        # compute animation\n",
        "        omega = 2 * math.pi / height\n",
        "        id_x = numpy.tile(numpy.array(range(width), dtype=numpy.float32), (height, 1))\n",
        "        id_y = numpy.tile(\n",
        "            numpy.array(range(height), dtype=numpy.float32), (width, 1)\n",
        "        ).transpose()\n",
        "\n",
        "        self.frames = []\n",
        "        for k in range(30):\n",
        "            phase = 2 * k * math.pi / 30\n",
        "            map_x = id_x + 10 * numpy.cos(omega * id_x + phase)\n",
        "            map_y = id_y + 10 * numpy.sin(omega * id_x + phase)\n",
        "            self.frames.append(\n",
        "                VideoFrame.from_ndarray(\n",
        "                    cv2.remap(data_bgr, map_x, map_y, cv2.INTER_LINEAR), format=\"bgr24\"\n",
        "                )\n",
        "            )\n",
        "\n",
        "    async def recv(self):\n",
        "        pts, time_base = await self.next_timestamp()\n",
        "\n",
        "        frame = self.frames[self.counter % 30]\n",
        "        frame.pts = pts\n",
        "        frame.time_base = time_base\n",
        "        self.counter += 1\n",
        "        return frame\n",
        "\n",
        "    def _create_rectangle(self, width, height, color):\n",
        "        data_bgr = numpy.zeros((height, width, 3), numpy.uint8)\n",
        "        data_bgr[:, :] = color\n",
        "        return data_bgr\n",
        "\n",
        "\n",
        "async def run(pc, player, recorder, signaling, role):\n",
        "    def add_tracks():\n",
        "        if player and player.audio:\n",
        "            pc.addTrack(player.audio)\n",
        "\n",
        "        if player and player.video:\n",
        "            pc.addTrack(player.video)\n",
        "        else:\n",
        "            pc.addTrack(FlagVideoStreamTrack())\n",
        "\n",
        "    @pc.on(\"track\")\n",
        "    def on_track(track):\n",
        "        print(\"Receiving %s\" % track.kind)\n",
        "        recorder.addTrack(track)\n",
        "\n",
        "    # connect signaling\n",
        "    await signaling.connect()\n",
        "\n",
        "    if role == \"offer\":\n",
        "        # send offer\n",
        "        add_tracks()\n",
        "        await pc.setLocalDescription(await pc.createOffer())\n",
        "        await signaling.send(pc.localDescription)\n",
        "\n",
        "    # consume signaling\n",
        "    while True:\n",
        "        obj = await signaling.receive()\n",
        "\n",
        "        if isinstance(obj, RTCSessionDescription):\n",
        "            await pc.setRemoteDescription(obj)\n",
        "            await recorder.start()\n",
        "\n",
        "            if obj.type == \"offer\":\n",
        "                # send answer\n",
        "                add_tracks()\n",
        "                await pc.setLocalDescription(await pc.createAnswer())\n",
        "                await signaling.send(pc.localDescription)\n",
        "        elif isinstance(obj, RTCIceCandidate):\n",
        "            pc.addIceCandidate(obj)\n",
        "        elif obj is None:\n",
        "            print(\"Exiting\")\n",
        "            break\n",
        "\n",
        "# create signaling and peer connection\n",
        "signaling = create_signaling()\n",
        "pc = RTCPeerConnection()\n",
        "\n",
        "\n",
        "recorder = MediaRecorder(\"f.avi\")\n",
        "\n",
        "# run event loop\n",
        "loop = asyncio.get_event_loop()\n",
        "loop.run_until_complete(\n",
        "    run(\n",
        "        pc=pc,\n",
        "        player=player,\n",
        "        recorder=recorder,\n",
        "        signaling=signaling,\n",
        "#         role=args.role,\n",
        "    )\n",
        ")\n",
        "\n",
        "# cleanup\n",
        "loop.run_until_complete(recorder.stop())\n",
        "loop.run_until_complete(signaling.close())\n",
        "loop.run_until_complete(pc.close())\n"
      ],
      "execution_count": 0,
      "outputs": [
        {
          "output_type": "error",
          "ename": "TypeError",
          "evalue": "ignored",
          "traceback": [
            "\u001b[0;31m---------------------------------------------------------------------------\u001b[0m",
            "\u001b[0;31mTypeError\u001b[0m                                 Traceback (most recent call last)",
            "\u001b[0;32m<ipython-input-40-e314aaff9ea9>\u001b[0m in \u001b[0;36m<module>\u001b[0;34m()\u001b[0m\n\u001b[1;32m    122\u001b[0m \u001b[0;34m\u001b[0m\u001b[0m\n\u001b[1;32m    123\u001b[0m \u001b[0;31m# create signaling and peer connection\u001b[0m\u001b[0;34m\u001b[0m\u001b[0;34m\u001b[0m\u001b[0;34m\u001b[0m\u001b[0m\n\u001b[0;32m--> 124\u001b[0;31m \u001b[0msignaling\u001b[0m \u001b[0;34m=\u001b[0m \u001b[0mcreate_signaling\u001b[0m\u001b[0;34m(\u001b[0m\u001b[0;34m)\u001b[0m\u001b[0;34m\u001b[0m\u001b[0;34m\u001b[0m\u001b[0m\n\u001b[0m\u001b[1;32m    125\u001b[0m \u001b[0mpc\u001b[0m \u001b[0;34m=\u001b[0m \u001b[0mRTCPeerConnection\u001b[0m\u001b[0;34m(\u001b[0m\u001b[0;34m)\u001b[0m\u001b[0;34m\u001b[0m\u001b[0;34m\u001b[0m\u001b[0m\n\u001b[1;32m    126\u001b[0m \u001b[0;34m\u001b[0m\u001b[0m\n",
            "\u001b[0;31mTypeError\u001b[0m: create_signaling() missing 1 required positional argument: 'args'"
          ]
        }
      ]
    },
    {
      "cell_type": "code",
      "metadata": {
        "id": "X9BZgvzEXIBN",
        "colab_type": "code",
        "outputId": "0a663644-382b-4046-e5d1-91bcbfd6e1ce",
        "colab": {
          "base_uri": "https://localhost:8080/",
          "height": 34
        }
      },
      "source": [
        "!google-chrome www.windows-commandline.com\n"
      ],
      "execution_count": 0,
      "outputs": [
        {
          "output_type": "stream",
          "text": [
            "/bin/bash: google-chrome: command not found\n"
          ],
          "name": "stdout"
        }
      ]
    }
  ]
}